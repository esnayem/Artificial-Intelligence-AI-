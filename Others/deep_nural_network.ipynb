{
 "cells": [
  {
   "cell_type": "code",
   "execution_count": null,
   "metadata": {},
   "outputs": [],
   "source": [
    "import matplotlib.pyplot as plt\n",
    "import tensorflow as tf\n",
    "import numpy as np\n",
    "from keras.layers import Input, Dense\n",
    "from keras.models import Model\n",
    "\n",
    "# Generate random data\n",
    "x = np.random.randint(-20, 20, 10000)\n",
    "y = 5 * x**3 - 8 * x**2 - 7 * x + 1\n",
    "\n",
    "# Normalize data\n",
    "x_data = (2 * (x - np.min(x)) / (np.max(x) - np.min(x))) - 1\n",
    "y_data = (2 * (y - np.min(y)) / (np.max(y) - np.min(y))) - 1\n",
    "\n",
    "# Split data into train, validation, and test sets\n",
    "size = len(x_data)\n",
    "x_train, y_train = x_data[: int(size * 0.9)], y_data[: int(size * 0.9)]\n",
    "x_validation, y_validation = x_data[int(size * 0.9) : int(size * 0.95)], y_data[int(size * 0.9) : int(size * 0.95)]\n",
    "x_test , y_test = x_data[int(size * 0.95) :], y_data[int(size * 0.95) :]\n",
    "\n",
    "# Visualize data\n",
    "plt.scatter(x_train, y_train, label=\"Training Data\")\n",
    "plt.scatter(x_validation, y_validation, label=\"Validation Data\")\n",
    "plt.scatter(x_test, y_test, label=\"Test Data\")\n",
    "plt.legend()\n",
    "plt.grid()\n",
    "plt.show()\n",
    "\n",
    "# Define the neural network architecture\n",
    "inputs = Input((1,))\n",
    "x = Dense(32, activation=\"relu\")(inputs)\n",
    "x = Dense(64, activation=\"relu\")(x)\n",
    "x = Dense(128, activation=\"relu\")(x)\n",
    "outputs = Dense(1, name=\"Output_Layer\")(x)\n",
    "\n",
    "# Create and compile the model\n",
    "model = Model(inputs, outputs, name=\"Deep_Neural_Network\")\n",
    "model.summary()\n",
    "\n",
    "model.compile(optimizer=\"adam\", loss=\"mean_squared_error\", metrics=[tf.keras.metrics.R2Score(name=\"accuracy\")])\n",
    "\n",
    "# Train the model\n",
    "trained_model = model.fit(x_train, y_train, epochs=50, validation_data=(x_validation, y_validation), verbose=0)\n",
    "history = trained_model.history\n",
    "\n",
    "# Plot training and validation accuracy\n",
    "plt.plot(history[\"accuracy\"])\n",
    "plt.plot(history[\"val_accuracy\"])\n",
    "plt.xlabel(\"Epochs\")\n",
    "plt.ylabel(\"Accuracy\")\n",
    "plt.legend([\"Training Accuracy\", \"Validation Accuracy\"])\n",
    "plt.grid()\n",
    "plt.show()\n",
    "\n",
    "# Plot training and validation loss\n",
    "plt.plot(history[\"loss\"])\n",
    "plt.plot(history[\"val_loss\"])\n",
    "plt.xlabel(\"Epochs\")\n",
    "plt.ylabel(\"Loss\")\n",
    "plt.legend([\"Training Loss\", \"Validation Loss\"])\n",
    "plt.grid()\n",
    "plt.show()\n",
    "\n",
    "# Evaluate model on test data\n",
    "test_loss, test_accuracy = model.evaluate(x_test, y_test)\n",
    "print(f\"Test Loss: {test_loss:.7f}\")\n",
    "print(f\"Test Accuracy: {test_accuracy * 100:.5f}%\")\n",
    "\n",
    "# Make predictions on test data\n",
    "predictions = model.predict(x_test)\n",
    "\n",
    "# Visualize true values vs predictions\n",
    "plt.scatter(x_test, y_test)\n",
    "plt.scatter(x_test, predictions)\n",
    "plt.legend([\"True Levels\", \"Predictions\"])\n",
    "plt.tight_layout()\n",
    "plt.grid()\n",
    "plt.show()\n"
   ]
  },
  {
   "cell_type": "markdown",
   "metadata": {},
   "source": [
    "# Importing necessary Libraries"
   ]
  },
  {
   "cell_type": "code",
   "execution_count": 2,
   "metadata": {},
   "outputs": [
    {
     "ename": "ModuleNotFoundError",
     "evalue": "No module named 'tensorflow'",
     "output_type": "error",
     "traceback": [
      "\u001b[1;31m---------------------------------------------------------------------------\u001b[0m",
      "\u001b[1;31mModuleNotFoundError\u001b[0m                       Traceback (most recent call last)",
      "Cell \u001b[1;32mIn[2], line 2\u001b[0m\n\u001b[0;32m      1\u001b[0m \u001b[38;5;28;01mimport\u001b[39;00m \u001b[38;5;21;01mmatplotlib\u001b[39;00m\u001b[38;5;21;01m.\u001b[39;00m\u001b[38;5;21;01mpyplot\u001b[39;00m \u001b[38;5;28;01mas\u001b[39;00m \u001b[38;5;21;01mplt\u001b[39;00m\n\u001b[1;32m----> 2\u001b[0m \u001b[38;5;28;01mimport\u001b[39;00m \u001b[38;5;21;01mtensorflow\u001b[39;00m \u001b[38;5;28;01mas\u001b[39;00m \u001b[38;5;21;01mtf\u001b[39;00m\n\u001b[0;32m      3\u001b[0m \u001b[38;5;28;01mimport\u001b[39;00m \u001b[38;5;21;01mnumpy\u001b[39;00m \u001b[38;5;28;01mas\u001b[39;00m \u001b[38;5;21;01mnp\u001b[39;00m\n\u001b[0;32m      4\u001b[0m \u001b[38;5;28;01mfrom\u001b[39;00m \u001b[38;5;21;01mkeras\u001b[39;00m\u001b[38;5;21;01m.\u001b[39;00m\u001b[38;5;21;01mlayers\u001b[39;00m \u001b[38;5;28;01mimport\u001b[39;00m Input, Dense\n",
      "\u001b[1;31mModuleNotFoundError\u001b[0m: No module named 'tensorflow'"
     ]
    }
   ],
   "source": [
    "import matplotlib.pyplot as plt\n",
    "import tensorflow as tf\n",
    "import numpy as np\n",
    "from keras.layers import Input, Dense\n",
    "from keras.models import Model"
   ]
  }
 ],
 "metadata": {
  "kernelspec": {
   "display_name": "Python 3",
   "language": "python",
   "name": "python3"
  },
  "language_info": {
   "codemirror_mode": {
    "name": "ipython",
    "version": 3
   },
   "file_extension": ".py",
   "mimetype": "text/x-python",
   "name": "python",
   "nbconvert_exporter": "python",
   "pygments_lexer": "ipython3",
   "version": "3.11.4"
  }
 },
 "nbformat": 4,
 "nbformat_minor": 2
}
